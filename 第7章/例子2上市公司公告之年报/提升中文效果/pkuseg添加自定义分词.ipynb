{
 "cells": [
  {
   "cell_type": "code",
   "execution_count": 1,
   "metadata": {},
   "outputs": [],
   "source": [
    "测试用str = '''\n",
    "温氏股份：2021年年度报告\n",
    "\n",
    "证券代码：300498 证券简称：温氏股份 公告编号：2022-22\n",
    "\n",
    "温氏食品集团股份有限公司\n",
    "\n",
    "2021年年度报告\n",
    "\n",
    "2022年04月\n",
    "\n",
    "...出于更好的演示效果，省略一大段...\n",
    "\n",
    "\t温氏股份上市前持有公司股份数前50名的自然人股东，具体为：温鹏程、严居然、梁焕珍、温均生、温小琼、温志芬、黎沃灿、严居能、黄伯昌、温木桓、梁志雄、黄松德、黎洪灿、张琼珍、伍翠珍、温耀光、何维光、刘金发、冯冰钊、谢应林、黄玉泉、郑经昌、梁伙旺、何达材、黎汝肇、朱桂连、凌五兴、叶京华、董柳波、秦锦养、刘宗杰、张祥斌、朱新光、陈健兴、林锦全、温卫锋、严安、张叙连、温德仁、陈海枫、秦开田、伍政维、温朝波、凌卫国、张小凤、林南发、何其泮、黎少松、苏丽端、李义俄\n",
    "\n",
    "'''"
   ]
  },
  {
   "cell_type": "code",
   "execution_count": 2,
   "metadata": {},
   "outputs": [
    {
     "data": {
      "text/plain": [
       "True"
      ]
     },
     "execution_count": 2,
     "metadata": {},
     "output_type": "execute_result"
    }
   ],
   "source": [
    "import spacy\n",
    "from spacy import displacy\n",
    "import pandas as pd\n",
    "\n",
    "spacy.prefer_gpu()"
   ]
  },
  {
   "cell_type": "code",
   "execution_count": 3,
   "metadata": {},
   "outputs": [],
   "source": [
    "nlp = spacy.load('zh_core_web_trf')"
   ]
  },
  {
   "cell_type": "code",
   "execution_count": 4,
   "metadata": {},
   "outputs": [
    {
     "data": {
      "text/html": [
       "<span class=\"tex2jax_ignore\"><div class=\"entities\" style=\"line-height: 2.5; direction: ltr\"></br><mark class=\"entity\" style=\"background: #7aecec; border-radius: 0.35em;margin: 0 0.15em; \">温氏股份</mark>：<mark class=\"entity\" style=\"background: #bfe1d9; border-radius: 0.35em;margin: 0 0.15em; \">2021年</mark>年度报告</br></br>证券代码：300498 证券简称：<mark class=\"entity\" style=\"background: #7aecec; border-radius: 0.35em;margin: 0 0.15em; \">温氏股份</mark> 公告编号：<mark class=\"entity\" style=\"background: #bfe1d9; border-radius: 0.35em;margin: 0 0.15em; \">2022</mark>-22</br></br><mark class=\"entity\" style=\"background: #7aecec; border-radius: 0.35em;margin: 0 0.15em; \">温氏食品集团股份有限公司</mark></br></br><mark class=\"entity\" style=\"background: #bfe1d9; border-radius: 0.35em;margin: 0 0.15em; \">2021年</mark>年度报告</br></br><mark class=\"entity\" style=\"background: #bfe1d9; border-radius: 0.35em;margin: 0 0.15em; \">2022年</mark>04月</br></br>...出于更好的演示效果，省略一大段...</br></br>\t<mark class=\"entity\" style=\"background: #7aecec; border-radius: 0.35em;margin: 0 0.15em; \">温氏股份</mark>上市前持有公司股份数前<mark class=\"entity\" style=\"background: #e4e7d2; border-radius: 0.35em;margin: 0 0.15em; \">50</mark>名的自然人股东，具体为：<mark class=\"entity\" style=\"background: #aa9cfc; border-radius: 0.35em;margin: 0 0.15em; \">温鹏程</mark>、<mark class=\"entity\" style=\"background: #aa9cfc; border-radius: 0.35em;margin: 0 0.15em; \">严居然</mark>、<mark class=\"entity\" style=\"background: #aa9cfc; border-radius: 0.35em;margin: 0 0.15em; \">梁焕珍</mark>、<mark class=\"entity\" style=\"background: #aa9cfc; border-radius: 0.35em;margin: 0 0.15em; \">温均生</mark>、<mark class=\"entity\" style=\"background: #aa9cfc; border-radius: 0.35em;margin: 0 0.15em; \">温小琼</mark>、<mark class=\"entity\" style=\"background: #aa9cfc; border-radius: 0.35em;margin: 0 0.15em; \">温志芬</mark>、<mark class=\"entity\" style=\"background: #aa9cfc; border-radius: 0.35em;margin: 0 0.15em; \">黎沃灿</mark>、<mark class=\"entity\" style=\"background: #aa9cfc; border-radius: 0.35em;margin: 0 0.15em; \">严居能</mark>、<mark class=\"entity\" style=\"background: #aa9cfc; border-radius: 0.35em;margin: 0 0.15em; \">黄伯昌</mark>、<mark class=\"entity\" style=\"background: #aa9cfc; border-radius: 0.35em;margin: 0 0.15em; \">温木桓</mark>、<mark class=\"entity\" style=\"background: #aa9cfc; border-radius: 0.35em;margin: 0 0.15em; \">梁志雄</mark>、<mark class=\"entity\" style=\"background: #aa9cfc; border-radius: 0.35em;margin: 0 0.15em; \">黄松德</mark>、<mark class=\"entity\" style=\"background: #aa9cfc; border-radius: 0.35em;margin: 0 0.15em; \">黎洪灿</mark>、<mark class=\"entity\" style=\"background: #aa9cfc; border-radius: 0.35em;margin: 0 0.15em; \">张琼珍</mark>、<mark class=\"entity\" style=\"background: #aa9cfc; border-radius: 0.35em;margin: 0 0.15em; \">伍翠珍</mark>、<mark class=\"entity\" style=\"background: #aa9cfc; border-radius: 0.35em;margin: 0 0.15em; \">温耀光</mark>、<mark class=\"entity\" style=\"background: #aa9cfc; border-radius: 0.35em;margin: 0 0.15em; \">何维光</mark>、<mark class=\"entity\" style=\"background: #aa9cfc; border-radius: 0.35em;margin: 0 0.15em; \">刘金发</mark>、<mark class=\"entity\" style=\"background: #aa9cfc; border-radius: 0.35em;margin: 0 0.15em; \">冯冰钊</mark>、<mark class=\"entity\" style=\"background: #aa9cfc; border-radius: 0.35em;margin: 0 0.15em; \">谢应林</mark>、<mark class=\"entity\" style=\"background: #aa9cfc; border-radius: 0.35em;margin: 0 0.15em; \">黄玉泉</mark>、<mark class=\"entity\" style=\"background: #aa9cfc; border-radius: 0.35em;margin: 0 0.15em; \">郑经昌</mark>、<mark class=\"entity\" style=\"background: #aa9cfc; border-radius: 0.35em;margin: 0 0.15em; \">梁伙旺</mark>、<mark class=\"entity\" style=\"background: #aa9cfc; border-radius: 0.35em;margin: 0 0.15em; \">何达材</mark>、<mark class=\"entity\" style=\"background: #aa9cfc; border-radius: 0.35em;margin: 0 0.15em; \">黎汝肇</mark>、<mark class=\"entity\" style=\"background: #aa9cfc; border-radius: 0.35em;margin: 0 0.15em; \">朱桂连</mark>、<mark class=\"entity\" style=\"background: #aa9cfc; border-radius: 0.35em;margin: 0 0.15em; \">凌五兴</mark>、<mark class=\"entity\" style=\"background: #aa9cfc; border-radius: 0.35em;margin: 0 0.15em; \">叶京华</mark>、<mark class=\"entity\" style=\"background: #aa9cfc; border-radius: 0.35em;margin: 0 0.15em; \">董柳波</mark>、<mark class=\"entity\" style=\"background: #aa9cfc; border-radius: 0.35em;margin: 0 0.15em; \">秦锦养</mark>、<mark class=\"entity\" style=\"background: #aa9cfc; border-radius: 0.35em;margin: 0 0.15em; \">刘宗杰</mark>、<mark class=\"entity\" style=\"background: #aa9cfc; border-radius: 0.35em;margin: 0 0.15em; \">张祥斌</mark>、<mark class=\"entity\" style=\"background: #aa9cfc; border-radius: 0.35em;margin: 0 0.15em; \">朱新光</mark>、<mark class=\"entity\" style=\"background: #aa9cfc; border-radius: 0.35em;margin: 0 0.15em; \">陈健兴</mark>、<mark class=\"entity\" style=\"background: #aa9cfc; border-radius: 0.35em;margin: 0 0.15em; \">林锦全</mark>、<mark class=\"entity\" style=\"background: #aa9cfc; border-radius: 0.35em;margin: 0 0.15em; \">温卫锋</mark>、<mark class=\"entity\" style=\"background: #aa9cfc; border-radius: 0.35em;margin: 0 0.15em; \">严安</mark>、<mark class=\"entity\" style=\"background: #aa9cfc; border-radius: 0.35em;margin: 0 0.15em; \">张叙连</mark>、<mark class=\"entity\" style=\"background: #aa9cfc; border-radius: 0.35em;margin: 0 0.15em; \">温德仁</mark>、<mark class=\"entity\" style=\"background: #aa9cfc; border-radius: 0.35em;margin: 0 0.15em; \">陈海枫</mark>、<mark class=\"entity\" style=\"background: #aa9cfc; border-radius: 0.35em;margin: 0 0.15em; \">秦</mark><mark class=\"entity\" style=\"background: #aa9cfc; border-radius: 0.35em;margin: 0 0.15em; \">开田</mark>、<mark class=\"entity\" style=\"background: #aa9cfc; border-radius: 0.35em;margin: 0 0.15em; \">伍政维</mark>、<mark class=\"entity\" style=\"background: #aa9cfc; border-radius: 0.35em;margin: 0 0.15em; \">温朝波</mark>、<mark class=\"entity\" style=\"background: #aa9cfc; border-radius: 0.35em;margin: 0 0.15em; \">凌卫国</mark>、<mark class=\"entity\" style=\"background: #aa9cfc; border-radius: 0.35em;margin: 0 0.15em; \">张小凤</mark>、<mark class=\"entity\" style=\"background: #aa9cfc; border-radius: 0.35em;margin: 0 0.15em; \">林南发</mark>、<mark class=\"entity\" style=\"background: #aa9cfc; border-radius: 0.35em;margin: 0 0.15em; \">何其泮</mark>、<mark class=\"entity\" style=\"background: #aa9cfc; border-radius: 0.35em;margin: 0 0.15em; \">黎少松</mark>、<mark class=\"entity\" style=\"background: #aa9cfc; border-radius: 0.35em;margin: 0 0.15em; \">苏丽端</mark>、<mark class=\"entity\" style=\"background: #aa9cfc; border-radius: 0.35em;margin: 0 0.15em; \">李义</mark><mark class=\"entity\" style=\"background: #aa9cfc; border-radius: 0.35em;margin: 0 0.15em; \">俄</mark></br></br></div></span>"
      ],
      "text/plain": [
       "<IPython.core.display.HTML object>"
      ]
     },
     "metadata": {},
     "output_type": "display_data"
    }
   ],
   "source": [
    "doc = nlp(测试用str)\n",
    "displacy.render(doc, style=\"ent\", options={\"template\":'<mark class=\"entity\" style=\"background: {bg}; border-radius: 0.35em;margin: 0 0.15em; \">{text}</mark>'})"
   ]
  },
  {
   "cell_type": "code",
   "execution_count": 7,
   "metadata": {},
   "outputs": [
    {
     "data": {
      "text/plain": [
       "'pkuseg'"
      ]
     },
     "execution_count": 7,
     "metadata": {},
     "output_type": "execute_result"
    }
   ],
   "source": [
    "nlp.tokenizer.segmenter"
   ]
  },
  {
   "cell_type": "code",
   "execution_count": 5,
   "metadata": {},
   "outputs": [],
   "source": [
    "nlp.tokenizer.pkuseg_update_user_dict([\"秦开田\", \"李义俄\"])"
   ]
  },
  {
   "cell_type": "code",
   "execution_count": 6,
   "metadata": {},
   "outputs": [
    {
     "data": {
      "text/html": [
       "<span class=\"tex2jax_ignore\"><div class=\"entities\" style=\"line-height: 2.5; direction: ltr\"></br><mark class=\"entity\" style=\"background: #7aecec; border-radius: 0.35em;margin: 0 0.15em; \">温氏股份</mark>：<mark class=\"entity\" style=\"background: #bfe1d9; border-radius: 0.35em;margin: 0 0.15em; \">2021年</mark>年度报告</br></br>证券代码：300498 证券简称：<mark class=\"entity\" style=\"background: #7aecec; border-radius: 0.35em;margin: 0 0.15em; \">温氏股份</mark> 公告编号：<mark class=\"entity\" style=\"background: #bfe1d9; border-radius: 0.35em;margin: 0 0.15em; \">2022</mark>-22</br></br><mark class=\"entity\" style=\"background: #7aecec; border-radius: 0.35em;margin: 0 0.15em; \">温氏食品集团股份有限公司</mark></br></br><mark class=\"entity\" style=\"background: #bfe1d9; border-radius: 0.35em;margin: 0 0.15em; \">2021年</mark>年度报告</br></br><mark class=\"entity\" style=\"background: #bfe1d9; border-radius: 0.35em;margin: 0 0.15em; \">2022年</mark>04月</br></br>...出于更好的演示效果，省略一大段...</br></br>\t<mark class=\"entity\" style=\"background: #7aecec; border-radius: 0.35em;margin: 0 0.15em; \">温氏股份</mark>上市前持有公司股份数前<mark class=\"entity\" style=\"background: #e4e7d2; border-radius: 0.35em;margin: 0 0.15em; \">50</mark>名的自然人股东，具体为：<mark class=\"entity\" style=\"background: #aa9cfc; border-radius: 0.35em;margin: 0 0.15em; \">温鹏程</mark>、<mark class=\"entity\" style=\"background: #aa9cfc; border-radius: 0.35em;margin: 0 0.15em; \">严居然</mark>、<mark class=\"entity\" style=\"background: #aa9cfc; border-radius: 0.35em;margin: 0 0.15em; \">梁焕珍</mark>、<mark class=\"entity\" style=\"background: #aa9cfc; border-radius: 0.35em;margin: 0 0.15em; \">温均生</mark>、<mark class=\"entity\" style=\"background: #aa9cfc; border-radius: 0.35em;margin: 0 0.15em; \">温小琼</mark>、<mark class=\"entity\" style=\"background: #aa9cfc; border-radius: 0.35em;margin: 0 0.15em; \">温志芬</mark>、<mark class=\"entity\" style=\"background: #aa9cfc; border-radius: 0.35em;margin: 0 0.15em; \">黎沃灿</mark>、<mark class=\"entity\" style=\"background: #aa9cfc; border-radius: 0.35em;margin: 0 0.15em; \">严居能</mark>、<mark class=\"entity\" style=\"background: #aa9cfc; border-radius: 0.35em;margin: 0 0.15em; \">黄伯昌</mark>、<mark class=\"entity\" style=\"background: #aa9cfc; border-radius: 0.35em;margin: 0 0.15em; \">温木桓</mark>、<mark class=\"entity\" style=\"background: #aa9cfc; border-radius: 0.35em;margin: 0 0.15em; \">梁志雄</mark>、<mark class=\"entity\" style=\"background: #aa9cfc; border-radius: 0.35em;margin: 0 0.15em; \">黄松德</mark>、<mark class=\"entity\" style=\"background: #aa9cfc; border-radius: 0.35em;margin: 0 0.15em; \">黎洪灿</mark>、<mark class=\"entity\" style=\"background: #aa9cfc; border-radius: 0.35em;margin: 0 0.15em; \">张琼珍</mark>、<mark class=\"entity\" style=\"background: #aa9cfc; border-radius: 0.35em;margin: 0 0.15em; \">伍翠珍</mark>、<mark class=\"entity\" style=\"background: #aa9cfc; border-radius: 0.35em;margin: 0 0.15em; \">温耀光</mark>、<mark class=\"entity\" style=\"background: #aa9cfc; border-radius: 0.35em;margin: 0 0.15em; \">何维光</mark>、<mark class=\"entity\" style=\"background: #aa9cfc; border-radius: 0.35em;margin: 0 0.15em; \">刘金发</mark>、<mark class=\"entity\" style=\"background: #aa9cfc; border-radius: 0.35em;margin: 0 0.15em; \">冯冰钊</mark>、<mark class=\"entity\" style=\"background: #aa9cfc; border-radius: 0.35em;margin: 0 0.15em; \">谢应林</mark>、<mark class=\"entity\" style=\"background: #aa9cfc; border-radius: 0.35em;margin: 0 0.15em; \">黄玉泉</mark>、<mark class=\"entity\" style=\"background: #aa9cfc; border-radius: 0.35em;margin: 0 0.15em; \">郑经昌</mark>、<mark class=\"entity\" style=\"background: #aa9cfc; border-radius: 0.35em;margin: 0 0.15em; \">梁伙旺</mark>、<mark class=\"entity\" style=\"background: #aa9cfc; border-radius: 0.35em;margin: 0 0.15em; \">何达材</mark>、<mark class=\"entity\" style=\"background: #aa9cfc; border-radius: 0.35em;margin: 0 0.15em; \">黎汝肇</mark>、<mark class=\"entity\" style=\"background: #aa9cfc; border-radius: 0.35em;margin: 0 0.15em; \">朱桂连</mark>、<mark class=\"entity\" style=\"background: #aa9cfc; border-radius: 0.35em;margin: 0 0.15em; \">凌五兴</mark>、<mark class=\"entity\" style=\"background: #aa9cfc; border-radius: 0.35em;margin: 0 0.15em; \">叶京华</mark>、<mark class=\"entity\" style=\"background: #aa9cfc; border-radius: 0.35em;margin: 0 0.15em; \">董柳波</mark>、<mark class=\"entity\" style=\"background: #aa9cfc; border-radius: 0.35em;margin: 0 0.15em; \">秦锦养</mark>、<mark class=\"entity\" style=\"background: #aa9cfc; border-radius: 0.35em;margin: 0 0.15em; \">刘宗杰</mark>、<mark class=\"entity\" style=\"background: #aa9cfc; border-radius: 0.35em;margin: 0 0.15em; \">张祥斌</mark>、<mark class=\"entity\" style=\"background: #aa9cfc; border-radius: 0.35em;margin: 0 0.15em; \">朱新光</mark>、<mark class=\"entity\" style=\"background: #aa9cfc; border-radius: 0.35em;margin: 0 0.15em; \">陈健兴</mark>、<mark class=\"entity\" style=\"background: #aa9cfc; border-radius: 0.35em;margin: 0 0.15em; \">林锦全</mark>、<mark class=\"entity\" style=\"background: #aa9cfc; border-radius: 0.35em;margin: 0 0.15em; \">温卫锋</mark>、<mark class=\"entity\" style=\"background: #aa9cfc; border-radius: 0.35em;margin: 0 0.15em; \">严安</mark>、<mark class=\"entity\" style=\"background: #aa9cfc; border-radius: 0.35em;margin: 0 0.15em; \">张叙连</mark>、<mark class=\"entity\" style=\"background: #aa9cfc; border-radius: 0.35em;margin: 0 0.15em; \">温德仁</mark>、<mark class=\"entity\" style=\"background: #aa9cfc; border-radius: 0.35em;margin: 0 0.15em; \">陈海枫</mark>、<mark class=\"entity\" style=\"background: #aa9cfc; border-radius: 0.35em;margin: 0 0.15em; \">秦开田</mark>、<mark class=\"entity\" style=\"background: #aa9cfc; border-radius: 0.35em;margin: 0 0.15em; \">伍政维</mark>、<mark class=\"entity\" style=\"background: #aa9cfc; border-radius: 0.35em;margin: 0 0.15em; \">温朝波</mark>、<mark class=\"entity\" style=\"background: #aa9cfc; border-radius: 0.35em;margin: 0 0.15em; \">凌卫国</mark>、<mark class=\"entity\" style=\"background: #aa9cfc; border-radius: 0.35em;margin: 0 0.15em; \">张小凤</mark>、<mark class=\"entity\" style=\"background: #aa9cfc; border-radius: 0.35em;margin: 0 0.15em; \">林南发</mark>、<mark class=\"entity\" style=\"background: #aa9cfc; border-radius: 0.35em;margin: 0 0.15em; \">何其泮</mark>、<mark class=\"entity\" style=\"background: #aa9cfc; border-radius: 0.35em;margin: 0 0.15em; \">黎少松</mark>、<mark class=\"entity\" style=\"background: #aa9cfc; border-radius: 0.35em;margin: 0 0.15em; \">苏丽端</mark>、<mark class=\"entity\" style=\"background: #aa9cfc; border-radius: 0.35em;margin: 0 0.15em; \">李义俄</mark></br></br></div></span>"
      ],
      "text/plain": [
       "<IPython.core.display.HTML object>"
      ]
     },
     "metadata": {},
     "output_type": "display_data"
    }
   ],
   "source": [
    "doc = nlp(测试用str)\n",
    "displacy.render(doc, style=\"ent\", options={\"template\":'<mark class=\"entity\" style=\"background: {bg}; border-radius: 0.35em;margin: 0 0.15em; \">{text}</mark>'})"
   ]
  }
 ],
 "metadata": {
  "kernelspec": {
   "display_name": "Python 3.8.0 64-bit",
   "language": "python",
   "name": "python3"
  },
  "language_info": {
   "codemirror_mode": {
    "name": "ipython",
    "version": 3
   },
   "file_extension": ".py",
   "mimetype": "text/x-python",
   "name": "python",
   "nbconvert_exporter": "python",
   "pygments_lexer": "ipython3",
   "version": "3.8.0"
  },
  "orig_nbformat": 4,
  "vscode": {
   "interpreter": {
    "hash": "570feb405e2e27c949193ac68f46852414290d515b0ba6e5d90d076ed2284471"
   }
  }
 },
 "nbformat": 4,
 "nbformat_minor": 2
}
