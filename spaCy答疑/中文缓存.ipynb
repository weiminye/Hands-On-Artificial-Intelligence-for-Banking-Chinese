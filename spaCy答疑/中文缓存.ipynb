{
 "cells": [
  {
   "cell_type": "code",
   "execution_count": 87,
   "metadata": {},
   "outputs": [],
   "source": [
    "测试用str = '''\n",
    "温氏股份：2021年年度报告\n",
    "\n",
    "证券代码：300498 证券简称：温氏股份 公告编号：2022-22\n",
    "\n",
    "温氏食品集团股份有限公司\n",
    "\n",
    "2021年年度报告\n",
    "\n",
    "2022年04月\n",
    "\n",
    "...出于更好的演示效果，省略一大段...\n",
    "\n",
    "\t温氏股份上市前持有公司股份数前50名的自然人股东，具体为：温鹏程、严居然、梁焕珍、温均生、温小琼、温志芬、黎沃灿、严居能、黄伯昌、温木桓、梁志雄、黄松德、黎洪灿、张琼珍、伍翠珍、温耀光、何维光、刘金发、冯冰钊、谢应林、黄玉泉、郑经昌、梁伙旺、何达材、黎汝肇、朱桂连、凌五兴、叶京华、董柳波、秦锦养、刘宗杰、张祥斌、朱新光、陈健兴、林锦全、温卫锋、严安、张叙连、温德仁、陈海枫、秦开田、伍政维、温朝波、凌卫国、张小凤、林南发、何其泮、黎少松、苏丽端、李义俄\n",
    "\n",
    "'''"
   ]
  },
  {
   "cell_type": "code",
   "execution_count": 88,
   "metadata": {},
   "outputs": [
    {
     "data": {
      "text/plain": [
       "True"
      ]
     },
     "execution_count": 88,
     "metadata": {},
     "output_type": "execute_result"
    }
   ],
   "source": [
    "import spacy\n",
    "\n",
    "spacy.prefer_gpu()"
   ]
  },
  {
   "cell_type": "code",
   "execution_count": 89,
   "metadata": {},
   "outputs": [],
   "source": [
    "nlp = spacy.load('zh_core_web_trf')"
   ]
  },
  {
   "cell_type": "code",
   "execution_count": 90,
   "metadata": {},
   "outputs": [],
   "source": [
    "doc = nlp(测试用str)\n",
    "句子list = []\n",
    "for 当前句子 in doc.sents:\n",
    "    句子list.append(当前句子.text)"
   ]
  },
  {
   "cell_type": "code",
   "execution_count": 91,
   "metadata": {},
   "outputs": [
    {
     "data": {
      "text/plain": [
       "['\\n温氏股份：2021年年度报告\\n\\n证券代码：300498 证券简称：温氏股份',\n",
       " '公告编号：2022-22\\n\\n温氏食品集团股份有限公司\\n\\n2021年年度报告',\n",
       " '\\n\\n2022年04月\\n\\n...出于更好的演示效果，省略一大段...\\n\\n\\t温氏股份上市前持有公司股份数前50名的自然人股东，具体为：温鹏程、严居然、梁焕珍、温均生、温小琼、温志芬、黎沃灿、严居能、黄伯昌、温木桓、梁志雄、黄松德、黎洪灿、张琼珍、伍翠珍、温耀光、何维光、刘金发、冯冰钊、谢应林、黄玉泉、郑经昌、梁伙旺、何达材、黎汝肇、朱桂连、凌五兴、叶京华、董柳波、秦锦养、刘宗杰、张祥斌、朱新光、陈健兴、林锦全、温卫锋、严安、张叙连、温德仁、陈海枫、秦开田、伍政维、温朝波、凌卫国、张小凤、林南发、何其泮、黎少松、苏丽端、李义俄\\n\\n']"
      ]
     },
     "execution_count": 91,
     "metadata": {},
     "output_type": "execute_result"
    }
   ],
   "source": [
    "句子list"
   ]
  },
  {
   "cell_type": "code",
   "execution_count": 92,
   "metadata": {},
   "outputs": [],
   "source": [
    "def nlp处理函数(句子):\n",
    "    return nlp(句子)"
   ]
  },
  {
   "cell_type": "code",
   "execution_count": 93,
   "metadata": {},
   "outputs": [],
   "source": [
    "缓存 = {}\n",
    "def 从缓存中读取(句子):\n",
    "    if 句子 not in 缓存.keys():\n",
    "        print('缓存里面没有，需要全过程处理一遍，然后添加进缓存')\n",
    "        缓存[句子] = nlp处理函数(句子)\n",
    "    \n",
    "    return 缓存[句子]\n"
   ]
  },
  {
   "cell_type": "code",
   "execution_count": 94,
   "metadata": {},
   "outputs": [
    {
     "name": "stdout",
     "output_type": "stream",
     "text": [
      "缓存里面没有，需要全过程处理一遍，然后添加进缓存\n",
      "\n",
      "温氏股份：2021年年度报告\n",
      "\n",
      "证券代码：300498 证券简称：温氏股份\n",
      "缓存里面没有，需要全过程处理一遍，然后添加进缓存\n",
      "公告编号：2022-22\n",
      "\n",
      "温氏食品集团股份有限公司\n",
      "\n",
      "2021年年度报告\n",
      "缓存里面没有，需要全过程处理一遍，然后添加进缓存\n",
      "\n",
      "\n",
      "2022年04月\n",
      "\n",
      "...出于更好的演示效果，省略一大段...\n",
      "\n",
      "\t温氏股份上市前持有公司股份数前50名的自然人股东，具体为：温鹏程、严居然、梁焕珍、温均生、温小琼、温志芬、黎沃灿、严居能、黄伯昌、温木桓、梁志雄、黄松德、黎洪灿、张琼珍、伍翠珍、温耀光、何维光、刘金发、冯冰钊、谢应林、黄玉泉、郑经昌、梁伙旺、何达材、黎汝肇、朱桂连、凌五兴、叶京华、董柳波、秦锦养、刘宗杰、张祥斌、朱新光、陈健兴、林锦全、温卫锋、严安、张叙连、温德仁、陈海枫、秦开田、伍政维、温朝波、凌卫国、张小凤、林南发、何其泮、黎少松、苏丽端、李义俄\n",
      "\n",
      "\n"
     ]
    }
   ],
   "source": [
    "for 当前句子 in 句子list:\n",
    "    print(从缓存中读取(当前句子))"
   ]
  }
 ],
 "metadata": {
  "kernelspec": {
   "display_name": "Python 3.8.0 64-bit",
   "language": "python",
   "name": "python3"
  },
  "language_info": {
   "codemirror_mode": {
    "name": "ipython",
    "version": 3
   },
   "file_extension": ".py",
   "mimetype": "text/x-python",
   "name": "python",
   "nbconvert_exporter": "python",
   "pygments_lexer": "ipython3",
   "version": "3.8.0"
  },
  "orig_nbformat": 4,
  "vscode": {
   "interpreter": {
    "hash": "570feb405e2e27c949193ac68f46852414290d515b0ba6e5d90d076ed2284471"
   }
  }
 },
 "nbformat": 4,
 "nbformat_minor": 2
}
