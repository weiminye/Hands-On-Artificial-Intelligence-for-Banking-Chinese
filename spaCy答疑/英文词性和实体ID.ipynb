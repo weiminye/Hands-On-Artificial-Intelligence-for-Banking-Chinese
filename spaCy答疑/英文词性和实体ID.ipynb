{
 "cells": [
  {
   "cell_type": "code",
   "execution_count": 38,
   "metadata": {},
   "outputs": [],
   "source": [
    "测试用str = '''\n",
    "You are so handsome.\n",
    "I am so smart.\n",
    "She is beautiful.\n",
    "'''"
   ]
  },
  {
   "cell_type": "code",
   "execution_count": 39,
   "metadata": {},
   "outputs": [
    {
     "data": {
      "text/plain": [
       "True"
      ]
     },
     "execution_count": 39,
     "metadata": {},
     "output_type": "execute_result"
    }
   ],
   "source": [
    "import spacy\n",
    "from spacy import displacy\n",
    "\n",
    "spacy.prefer_gpu()"
   ]
  },
  {
   "cell_type": "code",
   "execution_count": 40,
   "metadata": {},
   "outputs": [],
   "source": [
    "nlp = spacy.load('en_core_web_sm')"
   ]
  },
  {
   "cell_type": "code",
   "execution_count": 41,
   "metadata": {},
   "outputs": [
    {
     "name": "stdout",
     "output_type": "stream",
     "text": [
      "be\n"
     ]
    }
   ],
   "source": [
    "# 获取am的原形\n",
    "am的原形 = nlp(\"am\")[0].lemma_\n",
    "print(am的原形)"
   ]
  },
  {
   "cell_type": "code",
   "execution_count": 42,
   "metadata": {},
   "outputs": [],
   "source": [
    "nlp.disable_pipe('ner')\n",
    "ruler = nlp.add_pipe(\"entity_ruler\")\n",
    "实体类型 = {\"label\": \"实体类型\", \"pattern\": [{\"LEMMA\":am的原形}], \"id\": am的原形}\n",
    "ruler.add_patterns([实体类型])"
   ]
  },
  {
   "cell_type": "code",
   "execution_count": 43,
   "metadata": {},
   "outputs": [
    {
     "data": {
      "text/html": [
       "<span class=\"tex2jax_ignore\"><div class=\"entities\" style=\"line-height: 2.5; direction: ltr\"></br>You <mark class=\"entity\" style=\"background: #ddd; border-radius: 0.35em;margin: 0 0.15em; \">are</mark> so handsome.</br>I <mark class=\"entity\" style=\"background: #ddd; border-radius: 0.35em;margin: 0 0.15em; \">am</mark> so smart.</br>She <mark class=\"entity\" style=\"background: #ddd; border-radius: 0.35em;margin: 0 0.15em; \">is</mark> beautiful.</br></div></span>"
      ],
      "text/plain": [
       "<IPython.core.display.HTML object>"
      ]
     },
     "metadata": {},
     "output_type": "display_data"
    }
   ],
   "source": [
    "doc = nlp(测试用str)\n",
    "displacy.render(doc, style=\"ent\", options={\"template\":'<mark class=\"entity\" style=\"background: {bg}; border-radius: 0.35em;margin: 0 0.15em; \">{text}</mark>'})"
   ]
  }
 ],
 "metadata": {
  "kernelspec": {
   "display_name": "Python 3.8.0 64-bit",
   "language": "python",
   "name": "python3"
  },
  "language_info": {
   "codemirror_mode": {
    "name": "ipython",
    "version": 3
   },
   "file_extension": ".py",
   "mimetype": "text/x-python",
   "name": "python",
   "nbconvert_exporter": "python",
   "pygments_lexer": "ipython3",
   "version": "3.8.0"
  },
  "orig_nbformat": 4,
  "vscode": {
   "interpreter": {
    "hash": "570feb405e2e27c949193ac68f46852414290d515b0ba6e5d90d076ed2284471"
   }
  }
 },
 "nbformat": 4,
 "nbformat_minor": 2
}
